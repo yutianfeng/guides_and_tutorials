{
 "cells": [
  {
   "cell_type": "markdown",
   "metadata": {},
   "source": [
    "## General Concatenate guidelines:\n",
    "\n",
    "Fasta files must be aligned, can be nucelotide, AA or both, or neither\n",
    "In each alignment: all genomes must have the same name across all files, and only 1 seq\n",
    "    Duplicates, paralogues, short matches must be removed, or else introduced as another \"genome\""
   ]
  },
  {
   "cell_type": "markdown",
   "metadata": {},
   "source": [
    "## Using FasConCatG"
   ]
  },
  {
   "cell_type": "code",
   "execution_count": null,
   "metadata": {},
   "outputs": [],
   "source": [
    "perl /path/Fasconcatg_v1.04.pl -s -l\n",
    "# in a directory with your alignments"
   ]
  },
  {
   "cell_type": "code",
   "execution_count": 1,
   "metadata": {},
   "outputs": [],
   "source": [
    "import sys"
   ]
  },
  {
   "cell_type": "code",
   "execution_count": 2,
   "metadata": {},
   "outputs": [
    {
     "data": {
      "text/plain": [
       "'2.7.17 (default, Sep 30 2020, 13:38:04) \\n[GCC 7.5.0]'"
      ]
     },
     "execution_count": 2,
     "metadata": {},
     "output_type": "execute_result"
    }
   ],
   "source": [
    "sys.version"
   ]
  },
  {
   "cell_type": "markdown",
   "metadata": {},
   "source": [
    "#file extension matters only accepts: fasta, fas, nex, phy, but can output to either.\n",
    "#l command gives your partition file (RaxML), can also set the output format to nexus (Iqtree)\n",
    "#missing data and gaps, etc in info.xls\n",
    "\n",
    "Also a bunch of other features: consensus seq, omit certain codon positions, file format converter, recoding (ie Dayhoff)."
   ]
  },
  {
   "cell_type": "code",
   "execution_count": null,
   "metadata": {},
   "outputs": [],
   "source": [
    "#nexus  <-[make sure this is actually at the beginning (not a comment)]\n",
    "begin sets;\n",
    "    charset part1 = 1-100;\n",
    "    charset part2 = 101-384;\n",
    "    charpartition mine = HKY+G:part1, GTR+I+G:part2; # this one is optional if you don't know the best models yet\n",
    "end;"
   ]
  },
  {
   "cell_type": "markdown",
   "metadata": {},
   "source": [
    "##  Wrapper Supermatrix"
   ]
  },
  {
   "cell_type": "code",
   "execution_count": null,
   "metadata": {},
   "outputs": [],
   "source": [
    "# same set up as before, to create your A list:\n",
    "ls *.fas > Alist.txt\n",
    "supermatrix_wrapper.py Alist.txt\n",
    "#take the last outfile for the full alignmnet\n",
    "#you have to cat *.paritions and remove some lines via regex"
   ]
  },
  {
   "cell_type": "markdown",
   "metadata": {},
   "source": [
    "## C60 Model - IqTree\n",
    "A mixture model with 60 defined classes, takes a long time (on its own)\n",
    "Note: a mixture model does not need partitions just throw in the supermatrix and wait (if using the models on IQtree, it only takes a protein alignment)"
   ]
  },
  {
   "cell_type": "markdown",
   "metadata": {},
   "source": [
    "### What is the difference between partition and mixturemodels?\n",
    "Mixture models, like partition models, allow more than one substitution model alongthe sequences. However, while a partition model assigns each alignment site a givenspecific model, mixture models do not need this information. A mixture model willcompute for each site its probability (or weight) of belonging to each of the mixtureclasses (also called categories or components). Since the site-to-class assignment is un-known, the site likelihood under mixture models is the weighted sum of site likelihoodsper mixture class.For example, thediscrete Gamma rate heterogeneityis a simple mixture model type.It has several rate categories with equal weight. IQ-TREE also supports a number ofpredefined protein mixture modelssuch as the profile mixture modelsC10toC60(TheML variants of BayesianCATmodels)"
   ]
  },
  {
   "cell_type": "code",
   "execution_count": null,
   "metadata": {},
   "outputs": [],
   "source": [
    "## Paritions\n",
    "\n",
    "\n",
    "\n",
    "\n",
    "iqtree -s alignment.fasta -nt AUTO -m MFP+MERGE -spp parition.nex # slowest, merges like partitions -bb 1000\n",
    "\n",
    "iqtree -s alignment.fasta -nt AUTo -m MF+MERGE -spp partition.nex -rcluster 10 #faster, only considers the top 10% of models and merging schemes\n",
    "\n",
    "iqttree -s alignment.fasta -nt AUTO -m MF+MERGE -spp partition.nex -rcluster 10 -mset LG,WAG # fastests, only top 10% within LG, WAG (can change with what ever model set)"
   ]
  },
  {
   "cell_type": "code",
   "execution_count": null,
   "metadata": {},
   "outputs": [],
   "source": [
    "# Mixture\n",
    "#easiest, but longest, and closest to Bayesian\n",
    "iqtree -s alignment.fasta -nt AUTO -m LG+C60 -bb 1000 -wbt -wsl -wsr\n",
    "\n",
    "#fastest (like 1/10 of the time) and almost just as good (sometimes called 'cat' or 'PMSF' (posterior mean site frequency))\n",
    "iqtree -s alignment.fasta -nt AUTO -m LG+F+G -bb 1000 -wbt -wsl -wsr\n",
    "# we use a site homogenous model (LG+F+G) to calculate a guide tree (which is fast)\n",
    "# then feed the guide tree back into LG+C*\n",
    "iqtree -s alignment.fasta -ft treefile(from last command) -nt AUTO -m LG+C60 -bb 1000 -wbt -wsl -wsr\n",
    "\n"
   ]
  },
  {
   "cell_type": "markdown",
   "metadata": {},
   "source": [
    "## Other supermatrix things\n",
    "### Fast evolving sites\n",
    "The -wsr -wsl writes the site log likelihoods and site rates to a file which you can feed to sitestripper.pl to removed fast evolving sites. (ex: keep 70% of sites) \n",
    "### Recoding\n",
    "Dayhoff4, Dayhoff6 on proteins work in phylobayes but also takes a lonnnnng time (and chains may never converge)\n",
    "For dayhoff4 -> code into nucleotides [A,G,C,T], use the user defined model for C60 in iqtree ( can also use PMSF).\n",
    "### Concordance\n",
    "(http://www.iqtree.org/doc/Concordance-Factor)\n",
    "essentially you build a tree for every partition then you can map the topologies of every tree onto any reference tree as supports\n",
    "### Topology Tests\n",
    "-wbt prints all the bootstrap trees into a file so you have a sample of trees corresponding to a dataset that can be used for -au -sh etc tests"
   ]
  }
 ],
 "metadata": {
  "kernelspec": {
   "display_name": "Python 2",
   "language": "python",
   "name": "python2"
  },
  "toc": {
   "base_numbering": 1,
   "nav_menu": {},
   "number_sections": true,
   "sideBar": true,
   "skip_h1_title": false,
   "title_cell": "Table of Contents",
   "title_sidebar": "Contents",
   "toc_cell": false,
   "toc_position": {},
   "toc_section_display": true,
   "toc_window_display": false
  },
  "varInspector": {
   "cols": {
    "lenName": 16,
    "lenType": 16,
    "lenVar": 40
   },
   "kernels_config": {
    "python": {
     "delete_cmd_postfix": "",
     "delete_cmd_prefix": "del ",
     "library": "var_list.py",
     "varRefreshCmd": "print(var_dic_list())"
    },
    "r": {
     "delete_cmd_postfix": ") ",
     "delete_cmd_prefix": "rm(",
     "library": "var_list.r",
     "varRefreshCmd": "cat(var_dic_list()) "
    }
   },
   "types_to_exclude": [
    "module",
    "function",
    "builtin_function_or_method",
    "instance",
    "_Feature"
   ],
   "window_display": false
  }
 },
 "nbformat": 4,
 "nbformat_minor": 2
}
